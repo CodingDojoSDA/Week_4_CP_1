{
  "nbformat": 4,
  "nbformat_minor": 0,
  "metadata": {
    "kernelspec": {
      "display_name": "Python 3",
      "language": "python",
      "name": "python3"
    },
    "language_info": {
      "codemirror_mode": {
        "name": "ipython",
        "version": 3
      },
      "file_extension": ".py",
      "mimetype": "text/x-python",
      "name": "python",
      "nbconvert_exporter": "python",
      "pygments_lexer": "ipython3",
      "version": "3.8.8"
    },
    "colab": {
      "name": "assignment_w4_c1_template.ipynb",
      "provenance": [],
      "include_colab_link": true
    }
  },
  "cells": [
    {
      "cell_type": "markdown",
      "metadata": {
        "id": "view-in-github",
        "colab_type": "text"
      },
      "source": [
        "<a href=\"https://colab.research.google.com/github/CodingDojoSDA/Week_4_CP_1/blob/main/assignment_w4_c1_template.ipynb\" target=\"_parent\"><img src=\"https://colab.research.google.com/assets/colab-badge.svg\" alt=\"Open In Colab\"/></a>"
      ]
    },
    {
      "cell_type": "markdown",
      "metadata": {
        "id": "hFLRy1eZSk9h"
      },
      "source": [
        "Week 4, Assignment C1:\n",
        "\n",
        "CAPM and Modern Portfolio Theory in Python\n",
        "\n",
        "In this notebook, we will study Modern Portfolio Theory in Python.\n",
        "Please complete the lines bellow where you see \"# TODO\"."
      ]
    },
    {
      "cell_type": "code",
      "metadata": {
        "id": "PBJnMBWlSk9j"
      },
      "source": [
        "#Objective 1.\n",
        "#Use this cell to import Numpy (as np) and Pyplot (from Matplotlib as plt) packages.\n",
        "\n",
        "#todo <import 1>\n",
        "#todo <import 2>\n",
        "import numpy as np\n",
        "import matplotlib.pyplot as plt"
      ],
      "execution_count": null,
      "outputs": []
    },
    {
      "cell_type": "code",
      "metadata": {
        "id": "azu10VmqSk9k"
      },
      "source": [
        "#Objective 2.\n",
        "#Select a number of asset classes ( > 1 ) and a number of observations ( > 500 ).  Store your chosen values to the\n",
        "#two new variables \"no_of_asset_classes\" and \"no_of_observations\", respectively.\n",
        "\n",
        "\n",
        "# no_of_asset_classes = #todo\n",
        "# no_of_observations = #todo\n",
        "no_of_asset_classes = 5\n",
        "no_of_observations = 1000"
      ],
      "execution_count": null,
      "outputs": []
    },
    {
      "cell_type": "code",
      "metadata": {
        "id": "iTm3uc5ISk9l"
      },
      "source": [
        "np.random.seed(123)\n",
        "matrix_of_return_values = np.random.randn(no_of_asset_classes, no_of_observations)\n",
        "\n",
        "#Objective 3.\n",
        "#Select a number of test portfolios to generate ( > 1,000 < 20,000).  Store your chosen value to the new variable\n",
        "#\"no_of_portfolios\".  \n",
        "\n",
        "# no_of_portfolios = #todo\n",
        "no_of_portfolios = 10000\n",
        "\n",
        "# matrix_of_return_values"
      ],
      "execution_count": null,
      "outputs": []
    },
    {
      "cell_type": "code",
      "metadata": {
        "id": "K0uoX3cMSk9m"
      },
      "source": [
        "#Objective 4.\n",
        "#Initialize four empty lists called \"collection_of_random_asset_weights\", \"portfolio_means\",\n",
        "#\"portfolio_standard_deviations\", and \"portfolio_sharpe_ratios\", respectively.\n",
        "\n",
        "collection_of_random_asset_weights = []\n",
        "portfolio_means = []\n",
        "portfolio_standard_deviations = []\n",
        "portfolio_sharpe_ratios = []"
      ],
      "execution_count": null,
      "outputs": []
    },
    {
      "cell_type": "code",
      "metadata": {
        "id": "j7Kl5UlpSk9n"
      },
      "source": [
        "#Objective 5.\n",
        "#Write a function called \"get_random_asset_weights\" that takes as input (Input.I) any number of asset classes\n",
        "#\"no_of_asset_classes\" and returns (Output.I) a Numpy vector (matrix) of weights (percentages) of length \"no_of_asset_classes\"\n",
        "#whose sum is one (1).\n",
        "\n",
        "def get_random_asset_weights(no_of_asset_classes):\n",
        "    random_asset_weights = np.random.rand(no_of_asset_classes)\n",
        "    #todo <1>\n",
        "    #todo <2>\n",
        "    # size = len(random_asset_weights)\n",
        "    random_asset_weights = random_asset_weights / np.sum(random_asset_weights)\n",
        "    random_asset_weights = random_asset_weights.reshape(1, len(random_asset_weights))\n",
        "    # print(random_asset_weights.shape)\n",
        "    return random_asset_weights \n",
        "\n",
        "print(get_random_asset_weights(no_of_asset_classes))\n",
        "print(type(get_random_asset_weights(no_of_asset_classes)))\n",
        "print(get_random_asset_weights(no_of_asset_classes).shape)"
      ],
      "execution_count": null,
      "outputs": []
    },
    {
      "cell_type": "code",
      "metadata": {
        "id": "ZmDrh8SVSk9n"
      },
      "source": [
        "#Objective 6.\n",
        "#Write a function called \"get_portfolio_statistics\" that takes as input (Input.I) a Numpy vector (matrix)\n",
        "#\"asset_weights\" of weights (percentages) whose sum is one (1) and (Input.II) a Numpy matrix of return values\n",
        "#\"matrix_of_return_values\" whose first axis length is the same as the length of the Numpy vector (matrix)\n",
        "#\"asset_weights\" and returns (Output.I) the mean \"portfolio_mean\", (Output.II) the standard deviation\n",
        "#\"portfolio_standard_deviation\", and (Output.III) the Sharpe ratio \"portfolio_sharpe_ratio\" of the portfolio of\n",
        "#assets with asset weights \"asset_weights\" and asset return values belonging to \"matrix_of_return_values\".\n",
        "\n",
        "def get_portfolio_statistics(asset_weights, matrix_of_return_values):\n",
        "    asset_means = np.asmatrix(np.mean(matrix_of_return_values, axis = 1))\n",
        "    # asset_covariances = #todo\n",
        "    # portfolio_mean = #todo \n",
        "    # #portfolio_mean = #todo second line if needed.\n",
        "    # portfolio_standard_deviation = #todo\n",
        "    # #portfolio_standard_deviation = #todo second line if needed.\n",
        "    # portfolio_sharpe_ratio = # todo\n",
        "\n",
        "    asset_covariances = np.asmatrix(np.var(matrix_of_return_values, axis = 1))\n",
        "\n",
        "    portfolio_mean = np.mean(np.matmul(asset_weights, matrix_of_return_values))\n",
        "    portfolio_standard_deviation = np.var(np.matmul(asset_weights, matrix_of_return_values))\n",
        "\n",
        "    portfolio_sharpe_ratio = portfolio_mean / portfolio_standard_deviation\n",
        "    return portfolio_mean, portfolio_standard_deviation, portfolio_sharpe_ratio\n",
        "\n",
        "# get_portfolio_statistics(random_asset_weights, matrix_of_return_values)"
      ],
      "execution_count": null,
      "outputs": []
    },
    {
      "cell_type": "code",
      "metadata": {
        "id": "QWCYRdFwSk9o"
      },
      "source": [
        "#Objective 7.\n",
        "#Using the functions constructed in Objectives 5 and 6, write a loop that, on each iteration, determines a\n",
        "#Numpy vector (matrix) of weights (percentages) \"random_asset_weights\" of length \"no_of_asset_classes\" whose sum \n",
        "#is one (1) and then appends to each of the lists \"collection_of_random_asset_weights\", \"portfolio_means\",\n",
        "#\"portfolio_standard_deviations\", and \"portfolio_sharpe_ratios\" the Numpy vector (matrix) of weights (percentages)\n",
        "#\"random_asset_weights\"; and the mean \"portfolio_mean\", the standard deviation \"portfolio_standard_deviation\", and\n",
        "#the Sharpe ratio \"portfolio_sharpe_ratio\" of the portfolio of assets with asset weights \"asset_weights\" and asset \n",
        "#return values belonging to \"matrix_of_return_values\", respectively.\n",
        "\n",
        "while len(collection_of_random_asset_weights) < no_of_portfolios:\n",
        "    # random_asset_weights = #todo\n",
        "    # collection_of_random_asset_weights.append(#todo) \n",
        "    # #I recommend that two of the next three lines be #TODO's.\n",
        "    # portfolio_means.append(#todo)\n",
        "    # portfolio_standard_deviations.append(#todo)\n",
        "    # portfolio_sharpe_ratios.append(#todo)\n",
        "\n",
        "    random_asset_weights = get_random_asset_weights(no_of_asset_classes)\n",
        "    collection_of_random_asset_weights.append(random_asset_weights)\n",
        "\n",
        "    portfolio_means.append(get_portfolio_statistics(random_asset_weights, matrix_of_return_values)[0])\n",
        "    portfolio_standard_deviations.append(get_portfolio_statistics(random_asset_weights, matrix_of_return_values)[1])\n",
        "    portfolio_sharpe_ratios.append(get_portfolio_statistics(random_asset_weights, matrix_of_return_values)[2])"
      ],
      "execution_count": null,
      "outputs": []
    },
    {
      "cell_type": "code",
      "metadata": {
        "id": "ip2r7JyPSk9q"
      },
      "source": [
        "#Objective 8.\n",
        "#Make a scatterplot of the corresponding values (x,y) = (portfolio_standard_deviation, portfolio_mean) from the\n",
        "#lists \"portfolio_standard_deviations\" and \"portfolio_means\", respectively.\n",
        "\n",
        "# plt.plot(#todo, #todo, 'o', markersize = 3, color = 'lightskyblue') \n",
        "# plt.show()\n",
        "plt.plot(portfolio_standard_deviations, portfolio_means, 'o', markersize = 3, color = 'lightskyblue')"
      ],
      "execution_count": null,
      "outputs": []
    },
    {
      "cell_type": "code",
      "metadata": {
        "id": "Ql4IajbwSk9r"
      },
      "source": [
        "#Objective 9.\n",
        "#Find the list index of the portfolio of highest Sharpe ratio.\n",
        "\n",
        "# index = #todo\n",
        "\n",
        "index = portfolio_sharpe_ratios.index(max(portfolio_sharpe_ratios))\n",
        "index"
      ],
      "execution_count": null,
      "outputs": []
    },
    {
      "cell_type": "code",
      "metadata": {
        "id": "If-0v2SUSk9r"
      },
      "source": [
        "#Objective 10.\n",
        "#Print the asset weights and Sharpe ratio of the portfolio of highest Sharpe ratio, using index above.\n",
        "\n",
        "# print(#todo)\n",
        "# print(#todo)\n",
        "print('the asset weights of the portfolio of highest Sharpe ratio are', collection_of_random_asset_weights[index])\n",
        "print('the Sharpe ratio of the portfolio of highest Sharpe ratio are', portfolio_sharpe_ratios[index])"
      ],
      "execution_count": null,
      "outputs": []
    },
    {
      "cell_type": "code",
      "metadata": {
        "id": "hsPNvKwnSk9s"
      },
      "source": [
        "#Objective 11.\n",
        "#Add the Capital Market Line to your scatterplot from Objective 8.\n",
        "\n",
        "# x = np.linspace(0, max(portfolio_standard_deviations), 10000)\n",
        "# y = portfolio_sharpe_ratios[index] * x\n",
        "# plt.plot(#todo, #todo, 'o', markersize = 3, color = 'lightskyblue')\n",
        "# plt.plot(x, y, '-', linewidth = 2, color = 'green')\n",
        "# plt.show()\n",
        "\n",
        "x = np.linspace(0, max(portfolio_standard_deviations), 10000)\n",
        "y = portfolio_sharpe_ratios[index] * x\n",
        "\n",
        "plt.plot(portfolio_standard_deviations, portfolio_means, 'o', markersize = 3, color = 'lightskyblue')\n",
        "plt.plot(x, y, '-', linewidth = 2, color = 'green')\n",
        "plt.show()"
      ],
      "execution_count": null,
      "outputs": []
    },
    {
      "cell_type": "code",
      "metadata": {
        "id": "Fr3MntTjSk9s"
      },
      "source": [
        "#Objective 12.\n",
        "#All of the work in this notebook assumes a risk-free rate of zero (0.00).  How could this work be modified to\n",
        "#accommodate a nonzero risk-free rate?  Explain."
      ],
      "execution_count": null,
      "outputs": []
    },
    {
      "cell_type": "markdown",
      "metadata": {
        "id": "8AXS-Vf_Yksx"
      },
      "source": [
        "![image.png](data:image/png;base64,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)"
      ]
    },
    {
      "cell_type": "markdown",
      "metadata": {
        "id": "2Y8julXhSk9t"
      },
      "source": [
        "-- Please write Your Answer Here --"
      ]
    },
    {
      "cell_type": "markdown",
      "metadata": {
        "id": "lDL0gvkhYnUy"
      },
      "source": [
        "portfolio_sharpe_ratio = ( portfolio_mean - rist_free_ratio) / portfolio_standard_deviation "
      ]
    },
    {
      "cell_type": "code",
      "metadata": {
        "id": "P_b9XJHEZOV6"
      },
      "source": [
        ""
      ],
      "execution_count": null,
      "outputs": []
    }
  ]
}